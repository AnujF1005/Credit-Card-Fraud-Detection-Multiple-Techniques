{
 "cells": [
  {
   "cell_type": "markdown",
   "id": "43958a4b",
   "metadata": {},
   "source": [
    "Credit Card Fraud Detection using K Means Clustering and K-Nearest Neighbours"
   ]
  },
  {
   "cell_type": "code",
   "execution_count": 27,
   "id": "81a04c02",
   "metadata": {},
   "outputs": [],
   "source": [
    "import pandas as pd\n",
    "import numpy as np\n",
    "from sklearn.neighbors import KNeighborsClassifier\n",
    "from sklearn.cluster import KMeans\n",
    "from sklearn.model_selection import train_test_split\n",
    "from sklearn.preprocessing import StandardScaler, normalize\n",
    "from sklearn.metrics import confusion_matrix, plot_confusion_matrix, classification_report, f1_score"
   ]
  },
  {
   "cell_type": "code",
   "execution_count": 3,
   "id": "027daa5f",
   "metadata": {},
   "outputs": [],
   "source": [
    "dataset = pd.read_csv('creditcard.csv')"
   ]
  },
  {
   "cell_type": "code",
   "execution_count": 5,
   "id": "a3a49b2f",
   "metadata": {},
   "outputs": [],
   "source": [
    "dataset.drop(['Time'], axis=1, inplace=True)"
   ]
  },
  {
   "cell_type": "code",
   "execution_count": 6,
   "id": "73f9d88b",
   "metadata": {},
   "outputs": [],
   "source": [
    "X = dataset.drop(['Class'], axis=1).values\n",
    "y = dataset['Class'].values[:,None]"
   ]
  },
  {
   "cell_type": "code",
   "execution_count": 7,
   "id": "fc5487b8",
   "metadata": {},
   "outputs": [
    {
     "data": {
      "text/plain": [
       "((284807, 29), (284807, 1))"
      ]
     },
     "execution_count": 7,
     "metadata": {},
     "output_type": "execute_result"
    }
   ],
   "source": [
    "X.shape, y.shape"
   ]
  },
  {
   "cell_type": "code",
   "execution_count": 8,
   "id": "dfe006e2",
   "metadata": {},
   "outputs": [],
   "source": [
    "X_train, X_test, y_train, y_test = train_test_split(X, y, train_size=0.9)"
   ]
  },
  {
   "cell_type": "code",
   "execution_count": 9,
   "id": "e9b8ab8f",
   "metadata": {},
   "outputs": [
    {
     "data": {
      "text/plain": [
       "((256326, 29), (256326, 1))"
      ]
     },
     "execution_count": 9,
     "metadata": {},
     "output_type": "execute_result"
    }
   ],
   "source": [
    "X_train.shape, y_train.shape"
   ]
  },
  {
   "cell_type": "code",
   "execution_count": 10,
   "id": "b49350cf",
   "metadata": {},
   "outputs": [],
   "source": [
    "X_train=normalize(X_train)\n",
    "X_test=normalize(X_test)"
   ]
  },
  {
   "cell_type": "code",
   "execution_count": 11,
   "id": "b2417248",
   "metadata": {},
   "outputs": [],
   "source": [
    "kmeans = KMeans(n_clusters=2, random_state=0, algorithm=\"full\", max_iter=10000)\n",
    "kmeans.fit(X_train)\n",
    "kmeans_predicted_cluster_for_train=kmeans.predict(X_train)"
   ]
  },
  {
   "cell_type": "code",
   "execution_count": 13,
   "id": "a47c85bf",
   "metadata": {},
   "outputs": [
    {
     "data": {
      "text/plain": [
       "0    2\n",
       "dtype: int64"
      ]
     },
     "execution_count": 13,
     "metadata": {},
     "output_type": "execute_result"
    }
   ],
   "source": [
    "pd.DataFrame(kmeans_predicted_cluster_for_train).nunique()"
   ]
  },
  {
   "cell_type": "code",
   "execution_count": 14,
   "id": "d11e3199",
   "metadata": {},
   "outputs": [
    {
     "data": {
      "text/plain": [
       "(256326,)"
      ]
     },
     "execution_count": 14,
     "metadata": {},
     "output_type": "execute_result"
    }
   ],
   "source": [
    "kmeans_predicted_cluster_for_train.shape"
   ]
  },
  {
   "cell_type": "code",
   "execution_count": 15,
   "id": "213cef3c",
   "metadata": {},
   "outputs": [],
   "source": [
    "tn, fp, fn, tp = confusion_matrix(y_train, kmeans_predicted_cluster_for_train).ravel()\n",
    "reversed_cluster=False\n",
    "if tn+tp<fn+fp:\n",
    "    reversed_cluster=True\n",
    "kmeans_predicted_cluster_for_test = kmeans.predict(X_test)\n",
    "if reversed_cluster:\n",
    "    kmeans_predicted_cluster_for_test = 1 - kmeans_predicted_cluster_for_test\n"
   ]
  },
  {
   "cell_type": "code",
   "execution_count": 16,
   "id": "9fedb987",
   "metadata": {},
   "outputs": [
    {
     "name": "stdout",
     "output_type": "stream",
     "text": [
      "22612 5822\n",
      "26 21\n"
     ]
    }
   ],
   "source": [
    "tn, fp, fn, tp = confusion_matrix(y_test, kmeans_predicted_cluster_for_test).ravel()\n",
    "print(tn, fp)\n",
    "print(fn, tp)"
   ]
  },
  {
   "cell_type": "code",
   "execution_count": 17,
   "id": "e9661139",
   "metadata": {
    "scrolled": true
   },
   "outputs": [
    {
     "name": "stdout",
     "output_type": "stream",
     "text": [
      "              precision    recall  f1-score   support\n",
      "\n",
      "           0       1.00      0.80      0.89     28434\n",
      "           1       0.00      0.45      0.01        47\n",
      "\n",
      "    accuracy                           0.79     28481\n",
      "   macro avg       0.50      0.62      0.45     28481\n",
      "weighted avg       1.00      0.79      0.88     28481\n",
      "\n"
     ]
    }
   ],
   "source": [
    "print(classification_report(y_test, kmeans_predicted_cluster_for_test))"
   ]
  },
  {
   "cell_type": "code",
   "execution_count": 19,
   "id": "251b0dab",
   "metadata": {},
   "outputs": [
    {
     "data": {
      "text/plain": [
       "KNeighborsClassifier()"
      ]
     },
     "execution_count": 19,
     "metadata": {},
     "output_type": "execute_result"
    }
   ],
   "source": [
    "knn = KNeighborsClassifier()\n",
    "knn.fit(X_train, y_train.ravel())"
   ]
  },
  {
   "cell_type": "code",
   "execution_count": 20,
   "id": "68f32ff4",
   "metadata": {},
   "outputs": [],
   "source": [
    "knn_y_predicted = knn.predict(X_test)"
   ]
  },
  {
   "cell_type": "code",
   "execution_count": 23,
   "id": "ee2966b5",
   "metadata": {},
   "outputs": [
    {
     "data": {
      "text/plain": [
       "((28481, 29), (28481,))"
      ]
     },
     "execution_count": 23,
     "metadata": {},
     "output_type": "execute_result"
    }
   ],
   "source": [
    "X_test.shape, knn_y_predicted.shape"
   ]
  },
  {
   "cell_type": "code",
   "execution_count": 25,
   "id": "d95d30f0",
   "metadata": {},
   "outputs": [
    {
     "name": "stdout",
     "output_type": "stream",
     "text": [
      "28432 2\n",
      "16 31\n"
     ]
    }
   ],
   "source": [
    "tn, fp, fn, tp = confusion_matrix(y_test, knn_y_predicted).ravel()\n",
    "print(tn, fp)\n",
    "print(fn, tp)"
   ]
  },
  {
   "cell_type": "code",
   "execution_count": 26,
   "id": "2faceb91",
   "metadata": {
    "scrolled": false
   },
   "outputs": [
    {
     "name": "stdout",
     "output_type": "stream",
     "text": [
      "              precision    recall  f1-score   support\n",
      "\n",
      "           0       1.00      1.00      1.00     28434\n",
      "           1       0.94      0.66      0.78        47\n",
      "\n",
      "    accuracy                           1.00     28481\n",
      "   macro avg       0.97      0.83      0.89     28481\n",
      "weighted avg       1.00      1.00      1.00     28481\n",
      "\n"
     ]
    }
   ],
   "source": [
    "print(classification_report(y_test, knn_y_predicted))"
   ]
  },
  {
   "cell_type": "code",
   "execution_count": null,
   "id": "d26da87a",
   "metadata": {},
   "outputs": [],
   "source": []
  }
 ],
 "metadata": {
  "kernelspec": {
   "display_name": "Python 3 (ipykernel)",
   "language": "python",
   "name": "python3"
  },
  "language_info": {
   "codemirror_mode": {
    "name": "ipython",
    "version": 3
   },
   "file_extension": ".py",
   "mimetype": "text/x-python",
   "name": "python",
   "nbconvert_exporter": "python",
   "pygments_lexer": "ipython3",
   "version": "3.8.10"
  }
 },
 "nbformat": 4,
 "nbformat_minor": 5
}
